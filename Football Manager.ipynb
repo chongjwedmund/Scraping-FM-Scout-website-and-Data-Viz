{
 "cells": [
  {
   "cell_type": "markdown",
   "metadata": {},
   "source": [
    "# Python Project: Football Manager 2020\n",
    "### 1. Use BeautifulSoup to find all players with value above £20M or wage above £75k per week\n",
    "### 2. Data Cleaning \n",
    "### 3. Data Exploration and Visualisation\n",
    "* Is the EPL the most valuable league in the world?\n"
   ]
  },
  {
   "cell_type": "markdown",
   "metadata": {},
   "source": [
    "### Import packages"
   ]
  },
  {
   "cell_type": "code",
   "execution_count": 1,
   "metadata": {},
   "outputs": [
    {
     "name": "stdout",
     "output_type": "stream",
     "text": [
      "Requirement already satisfied: beautifulsoup4 in c:\\users\\user\\anaconda3\\lib\\site-packages (4.9.1)\n",
      "Requirement already satisfied: soupsieve>1.2 in c:\\users\\user\\anaconda3\\lib\\site-packages (from beautifulsoup4) (2.0.1)\n"
     ]
    }
   ],
   "source": [
    "!pip install beautifulsoup4"
   ]
  },
  {
   "cell_type": "code",
   "execution_count": 2,
   "metadata": {},
   "outputs": [
    {
     "data": {
      "text/plain": [
       "'4.9.1'"
      ]
     },
     "execution_count": 2,
     "metadata": {},
     "output_type": "execute_result"
    }
   ],
   "source": [
    "import bs4\n",
    "from bs4 import BeautifulSoup\n",
    "\n",
    "bs4.__version__"
   ]
  },
  {
   "cell_type": "code",
   "execution_count": 3,
   "metadata": {},
   "outputs": [],
   "source": [
    "import pandas as pd\n",
    "import numpy as np\n",
    "import matplotlib.pyplot as plt\n",
    "import csv\n",
    "import requests\n",
    "import re"
   ]
  },
  {
   "cell_type": "markdown",
   "metadata": {},
   "source": [
    "### Web Scraping and Data Cleaning\n",
    "* Perform scraping process across multiple web pages \n",
    "* Scraping function run twice, once for players with value above £20M, and once for players with wage above £75k per week to capture a union of both conditions \n",
    "* Perform initial data cleaning for tidy data before exporting. This ensures easier steps for subsequent data cleaning.  \n",
    "* Export 2 csv files with same headers, to be outer joined in subsequent steps"
   ]
  },
  {
   "cell_type": "code",
   "execution_count": 16,
   "metadata": {},
   "outputs": [],
   "source": [
    "url_v = 'https://www.fmscout.com/players.html?id=2244758' # filter by player value \n",
    "url_w = 'https://www.fmscout.com/players.html?id=2244761' # filter by player wage \n",
    "# note that id is valid for only X minutes "
   ]
  },
  {
   "cell_type": "code",
   "execution_count": 17,
   "metadata": {},
   "outputs": [],
   "source": [
    "# function for web scraping and initial data cleaning\n",
    "def get_page(page):\n",
    "    url = url_w # do the same for url_v and url_w\n",
    "    url_next = url+f'&page={page}'\n",
    "   \n",
    "    resp = requests.get(url_next)    \n",
    "    soup = BeautifulSoup(resp.text) # make soup \n",
    "    tables = soup.find_all('table') \n",
    "    tr_list = tables[0].find_all('tr')\n",
    "    data = []\n",
    "\n",
    "    for tr in tr_list:\n",
    "        td_list = tr.find_all('td') # find all table data and append each row as an element in a list \n",
    "        row = [td.text for td in td_list]\n",
    "        if row:\n",
    "            data.append(row)\n",
    "\n",
    "    dels = [0,8,9] # delete unused columns, namely Status, Rating and Screenshots\n",
    "    for i in range(len(data)):\n",
    "        for j in sorted(dels, reverse = True): \n",
    "            del data[i][j] \n",
    "\n",
    "    data = data[1:] # delete header row, header is separately created\n",
    "  \n",
    "    ints = [1,4,5,6] # cols whose data type is supposed to be int \n",
    "    for i in range(len(data)):\n",
    "        for j in ints:\n",
    "            data[i][j] = int(re.sub(\"[^0-9]\",\"\",data[i][j])) # remove all non-integer characters\n",
    "    \n",
    "    stripper = [0,2] # strip remaining cols of whitespace \n",
    "    for i in range(len(data)):\n",
    "        for k in stripper: \n",
    "            data[i][k] = data[i][k].strip()\n",
    "    \n",
    "    for i in range(len(data)): # split Name and Position \n",
    "        data[i][0] = data[i][0].split('\\n',1)\n",
    "        data[i][0][1] = data[i][0][1].replace('\\n','').replace('\\xa0',' ')\n",
    "        \n",
    "        # unpacking Name and Position\n",
    "        for j in data[i][0]: \n",
    "            data[i].insert(-6,j)\n",
    "        \n",
    "        data[i].pop(0) # remove nested list ['Name','Position']   \n",
    "\n",
    "    return(data)"
   ]
  },
  {
   "cell_type": "code",
   "execution_count": 18,
   "metadata": {},
   "outputs": [
    {
     "data": {
      "text/plain": [
       "[['Aaron Ramsey', 'AMR AMC', 28, 'WAL', 'Zebre', 178, 176, 34],\n",
       " ['Aaron Wan-Bissaka', 'DR WBR', 21, 'ENG', 'Man Utd', 183, 80, 25],\n",
       " ['Abdou Diallo', 'DL DC', 23, 'FRA', 'Paris SG', 186, 83, 14],\n",
       " ['Adam Lallana', 'DM AMR AML AMC', 31, 'ENG', 'Liverpool', 173, 110, 24],\n",
       " ['Adrien Rabiot', 'MC', 24, 'FRA', 'Zebre', 188, 176, 34]]"
      ]
     },
     "execution_count": 18,
     "metadata": {},
     "output_type": "execute_result"
    }
   ],
   "source": [
    "# test the function \n",
    "get_page(1)[:5]"
   ]
  },
  {
   "cell_type": "code",
   "execution_count": 19,
   "metadata": {},
   "outputs": [
    {
     "data": {
      "text/plain": [
       "[['Aaron Ramsey', 'AMR AMC', 28, 'WAL', 'Zebre', 178, 176, 34],\n",
       " ['Aaron Wan-Bissaka', 'DR WBR', 21, 'ENG', 'Man Utd', 183, 80, 25],\n",
       " ['Abdou Diallo', 'DL DC', 23, 'FRA', 'Paris SG', 186, 83, 14],\n",
       " ['Adam Lallana', 'DM AMR AML AMC', 31, 'ENG', 'Liverpool', 173, 110, 24],\n",
       " ['Adrien Rabiot', 'MC', 24, 'FRA', 'Zebre', 188, 176, 34]]"
      ]
     },
     "execution_count": 19,
     "metadata": {},
     "output_type": "execute_result"
    }
   ],
   "source": [
    "pages = [1,2,3,4,5] # there are 5 pages of results \n",
    "result = []\n",
    "\n",
    "for page in pages: # combining all pages \n",
    "    result.append(get_page(page))\n",
    "    \n",
    "flat_result = [item for sublist in result for item in sublist] # flattening nested lists to return single list \n",
    "flat_result[:5]"
   ]
  },
  {
   "cell_type": "code",
   "execution_count": 20,
   "metadata": {},
   "outputs": [
    {
     "data": {
      "text/plain": [
       "399"
      ]
     },
     "execution_count": 20,
     "metadata": {},
     "output_type": "execute_result"
    }
   ],
   "source": [
    "len(flat_result)"
   ]
  },
  {
   "cell_type": "code",
   "execution_count": 12,
   "metadata": {},
   "outputs": [],
   "source": [
    "# same headers. do not need to rerun for other dataset \n",
    "url = url_v \n",
    "url_next = url+f'&page={page}'\n",
    "   \n",
    "resp = requests.get(url_next)    \n",
    "soup = BeautifulSoup(resp.text) # make soup \n",
    "tables = soup.find_all('table') "
   ]
  },
  {
   "cell_type": "code",
   "execution_count": 13,
   "metadata": {},
   "outputs": [
    {
     "name": "stdout",
     "output_type": "stream",
     "text": [
      "['Name', 'Position', 'Age', 'Nation', 'Club', 'Height (cm)', \"Wage (£'000 per week)\", \"Value (£'M)\"]\n"
     ]
    }
   ],
   "source": [
    "# same headers. do not need to rerun for other dataset \n",
    "thead_list = tables[0].find_all('thead')\n",
    "header = [thead.text for thead in thead_list]\n",
    "header = header[0].split('\\n')\n",
    "\n",
    "index = [0,1,2,10,11,12,13] # delete unnecessary columns such as Status and Screenshots\n",
    "\n",
    "for i in sorted(index, reverse=True):\n",
    "    del header[i]\n",
    "\n",
    "# Rename headers to include unit of measure\n",
    "header[4] += ' (cm)'\n",
    "header[5] += ' (£\\'000 per week)'\n",
    "header[6] += ' (£\\'M)'\n",
    "header[0] = header[0].split('&')\n",
    "\n",
    "# unpacking Name and Position\n",
    "for i in header[0]: \n",
    "    header.insert(-6,i)\n",
    "\n",
    "header.pop(0) # remove nested list ['Name','Position'] \n",
    "\n",
    "for i in range(len(header)):\n",
    "    header[i] = header[i].strip()\n",
    "\n",
    "print(header)"
   ]
  },
  {
   "cell_type": "code",
   "execution_count": 21,
   "metadata": {},
   "outputs": [],
   "source": [
    "with open('fm_wage.csv','w',newline='') as f: # export 2 files fm_value and fm_wage\n",
    "    writer = csv.writer(f)\n",
    "    writer.writerow(header)\n",
    "    writer.writerows(flat_result)"
   ]
  },
  {
   "cell_type": "code",
   "execution_count": 22,
   "metadata": {},
   "outputs": [],
   "source": [
    "!notepad fm_wage.csv"
   ]
  },
  {
   "cell_type": "markdown",
   "metadata": {},
   "source": [
    "### Data Cleaning\n",
    "\n",
    "Many of the data cleaning steps have been done in the get_page( ) function.\n",
    "* Removing usused columns \n",
    "* Removing non-numeric characters \n",
    "* Changing data type \n",
    "* Stripping of whitespace \n",
    "* Renaming column headers and \n",
    "* Splitting of combined columns \n",
    "<br><br>\n",
    "\n",
    "Further refinement required. \n",
    "* Merging data frames\n",
    "* Removing duplicates \n",
    "* Reindexing \n",
    "* Detecting and correcting outliers and anomalies \n",
    "<br><br>\n",
    "\n",
    "Finally export clean file as csv. "
   ]
  },
  {
   "cell_type": "code",
   "execution_count": 23,
   "metadata": {},
   "outputs": [
    {
     "data": {
      "text/html": [
       "<div>\n",
       "<style scoped>\n",
       "    .dataframe tbody tr th:only-of-type {\n",
       "        vertical-align: middle;\n",
       "    }\n",
       "\n",
       "    .dataframe tbody tr th {\n",
       "        vertical-align: top;\n",
       "    }\n",
       "\n",
       "    .dataframe thead th {\n",
       "        text-align: right;\n",
       "    }\n",
       "</style>\n",
       "<table border=\"1\" class=\"dataframe\">\n",
       "  <thead>\n",
       "    <tr style=\"text-align: right;\">\n",
       "      <th></th>\n",
       "      <th>Name</th>\n",
       "      <th>Position</th>\n",
       "      <th>Age</th>\n",
       "      <th>Nation</th>\n",
       "      <th>Club</th>\n",
       "      <th>Height (cm)</th>\n",
       "      <th>Wage (£'000 per week)</th>\n",
       "      <th>Value (£'M)</th>\n",
       "    </tr>\n",
       "  </thead>\n",
       "  <tbody>\n",
       "    <tr>\n",
       "      <th>0</th>\n",
       "      <td>Aaron Mooy</td>\n",
       "      <td>AMC</td>\n",
       "      <td>28</td>\n",
       "      <td>AUS</td>\n",
       "      <td>Brighton</td>\n",
       "      <td>179</td>\n",
       "      <td>35</td>\n",
       "      <td>23</td>\n",
       "    </tr>\n",
       "    <tr>\n",
       "      <th>1</th>\n",
       "      <td>Aaron Ramsey</td>\n",
       "      <td>AMR AMC</td>\n",
       "      <td>28</td>\n",
       "      <td>WAL</td>\n",
       "      <td>Zebre</td>\n",
       "      <td>178</td>\n",
       "      <td>176</td>\n",
       "      <td>34</td>\n",
       "    </tr>\n",
       "    <tr>\n",
       "      <th>2</th>\n",
       "      <td>Aaron Wan-Bissaka</td>\n",
       "      <td>DR WBR</td>\n",
       "      <td>21</td>\n",
       "      <td>ENG</td>\n",
       "      <td>Man Utd</td>\n",
       "      <td>183</td>\n",
       "      <td>80</td>\n",
       "      <td>25</td>\n",
       "    </tr>\n",
       "    <tr>\n",
       "      <th>3</th>\n",
       "      <td>Abdoulaye Doucoure</td>\n",
       "      <td>DM AMC</td>\n",
       "      <td>26</td>\n",
       "      <td>FRA</td>\n",
       "      <td>Watford</td>\n",
       "      <td>183</td>\n",
       "      <td>70</td>\n",
       "      <td>28</td>\n",
       "    </tr>\n",
       "    <tr>\n",
       "      <th>4</th>\n",
       "      <td>Adam Lallana</td>\n",
       "      <td>DM AMR AML AMC</td>\n",
       "      <td>31</td>\n",
       "      <td>ENG</td>\n",
       "      <td>Liverpool</td>\n",
       "      <td>173</td>\n",
       "      <td>110</td>\n",
       "      <td>24</td>\n",
       "    </tr>\n",
       "  </tbody>\n",
       "</table>\n",
       "</div>"
      ],
      "text/plain": [
       "                 Name        Position  Age Nation       Club  Height (cm)  \\\n",
       "0          Aaron Mooy             AMC   28    AUS   Brighton          179   \n",
       "1        Aaron Ramsey         AMR AMC   28    WAL      Zebre          178   \n",
       "2   Aaron Wan-Bissaka          DR WBR   21    ENG    Man Utd          183   \n",
       "3  Abdoulaye Doucoure          DM AMC   26    FRA    Watford          183   \n",
       "4        Adam Lallana  DM AMR AML AMC   31    ENG  Liverpool          173   \n",
       "\n",
       "   Wage (£'000 per week)  Value (£'M)  \n",
       "0                     35           23  \n",
       "1                    176           34  \n",
       "2                     80           25  \n",
       "3                     70           28  \n",
       "4                    110           24  "
      ]
     },
     "execution_count": 23,
     "metadata": {},
     "output_type": "execute_result"
    }
   ],
   "source": [
    "dfv = pd.read_csv('fm_value.csv', encoding = 'cp1252') # why is there a need to encode cp1252?\n",
    "dfw = pd.read_csv('fm_wage.csv', encoding = 'cp1252')\n",
    "df = pd.concat([dfv,dfw])\n",
    "df.head() # sorted by Name "
   ]
  },
  {
   "cell_type": "code",
   "execution_count": 24,
   "metadata": {},
   "outputs": [
    {
     "data": {
      "text/plain": [
       "(833, 8)"
      ]
     },
     "execution_count": 24,
     "metadata": {},
     "output_type": "execute_result"
    }
   ],
   "source": [
    "df.shape"
   ]
  },
  {
   "cell_type": "code",
   "execution_count": 25,
   "metadata": {},
   "outputs": [
    {
     "data": {
      "text/plain": [
       "(434, 399)"
      ]
     },
     "execution_count": 25,
     "metadata": {},
     "output_type": "execute_result"
    }
   ],
   "source": [
    "len(dfv), len(dfw)"
   ]
  },
  {
   "cell_type": "code",
   "execution_count": 26,
   "metadata": {},
   "outputs": [
    {
     "data": {
      "text/plain": [
       "269"
      ]
     },
     "execution_count": 26,
     "metadata": {},
     "output_type": "execute_result"
    }
   ],
   "source": [
    "# check for duplicates \n",
    "df.duplicated().sum() # there are 269 duplicates "
   ]
  },
  {
   "cell_type": "code",
   "execution_count": 27,
   "metadata": {},
   "outputs": [],
   "source": [
    "df.drop_duplicates(subset='Name', inplace=True) # drop duplicated players "
   ]
  },
  {
   "cell_type": "code",
   "execution_count": 28,
   "metadata": {},
   "outputs": [
    {
     "data": {
      "text/plain": [
       "False"
      ]
     },
     "execution_count": 28,
     "metadata": {},
     "output_type": "execute_result"
    }
   ],
   "source": [
    "df.duplicated(subset='Name').any() # check if duplicates have been removed "
   ]
  },
  {
   "cell_type": "code",
   "execution_count": 29,
   "metadata": {},
   "outputs": [
    {
     "data": {
      "text/plain": [
       "(564, 8)"
      ]
     },
     "execution_count": 29,
     "metadata": {},
     "output_type": "execute_result"
    }
   ],
   "source": [
    "df.shape # 564 records, 8 column headers "
   ]
  },
  {
   "cell_type": "code",
   "execution_count": 30,
   "metadata": {},
   "outputs": [
    {
     "data": {
      "text/html": [
       "<div>\n",
       "<style scoped>\n",
       "    .dataframe tbody tr th:only-of-type {\n",
       "        vertical-align: middle;\n",
       "    }\n",
       "\n",
       "    .dataframe tbody tr th {\n",
       "        vertical-align: top;\n",
       "    }\n",
       "\n",
       "    .dataframe thead th {\n",
       "        text-align: right;\n",
       "    }\n",
       "</style>\n",
       "<table border=\"1\" class=\"dataframe\">\n",
       "  <thead>\n",
       "    <tr style=\"text-align: right;\">\n",
       "      <th></th>\n",
       "      <th>Name</th>\n",
       "      <th>Position</th>\n",
       "      <th>Age</th>\n",
       "      <th>Nation</th>\n",
       "      <th>Club</th>\n",
       "      <th>Height (cm)</th>\n",
       "      <th>Wage (£'000 per week)</th>\n",
       "      <th>Value (£'M)</th>\n",
       "    </tr>\n",
       "  </thead>\n",
       "  <tbody>\n",
       "    <tr>\n",
       "      <th>0</th>\n",
       "      <td>Aaron Mooy</td>\n",
       "      <td>AMC</td>\n",
       "      <td>28</td>\n",
       "      <td>AUS</td>\n",
       "      <td>Brighton</td>\n",
       "      <td>179</td>\n",
       "      <td>35</td>\n",
       "      <td>23</td>\n",
       "    </tr>\n",
       "    <tr>\n",
       "      <th>1</th>\n",
       "      <td>Aaron Ramsey</td>\n",
       "      <td>AMR AMC</td>\n",
       "      <td>28</td>\n",
       "      <td>WAL</td>\n",
       "      <td>Zebre</td>\n",
       "      <td>178</td>\n",
       "      <td>176</td>\n",
       "      <td>34</td>\n",
       "    </tr>\n",
       "    <tr>\n",
       "      <th>2</th>\n",
       "      <td>Aaron Wan-Bissaka</td>\n",
       "      <td>DR WBR</td>\n",
       "      <td>21</td>\n",
       "      <td>ENG</td>\n",
       "      <td>Man Utd</td>\n",
       "      <td>183</td>\n",
       "      <td>80</td>\n",
       "      <td>25</td>\n",
       "    </tr>\n",
       "    <tr>\n",
       "      <th>3</th>\n",
       "      <td>Abdoulaye Doucoure</td>\n",
       "      <td>DM AMC</td>\n",
       "      <td>26</td>\n",
       "      <td>FRA</td>\n",
       "      <td>Watford</td>\n",
       "      <td>183</td>\n",
       "      <td>70</td>\n",
       "      <td>28</td>\n",
       "    </tr>\n",
       "    <tr>\n",
       "      <th>4</th>\n",
       "      <td>Adam Lallana</td>\n",
       "      <td>DM AMR AML AMC</td>\n",
       "      <td>31</td>\n",
       "      <td>ENG</td>\n",
       "      <td>Liverpool</td>\n",
       "      <td>173</td>\n",
       "      <td>110</td>\n",
       "      <td>24</td>\n",
       "    </tr>\n",
       "  </tbody>\n",
       "</table>\n",
       "</div>"
      ],
      "text/plain": [
       "                 Name        Position  Age Nation       Club  Height (cm)  \\\n",
       "0          Aaron Mooy             AMC   28    AUS   Brighton          179   \n",
       "1        Aaron Ramsey         AMR AMC   28    WAL      Zebre          178   \n",
       "2   Aaron Wan-Bissaka          DR WBR   21    ENG    Man Utd          183   \n",
       "3  Abdoulaye Doucoure          DM AMC   26    FRA    Watford          183   \n",
       "4        Adam Lallana  DM AMR AML AMC   31    ENG  Liverpool          173   \n",
       "\n",
       "   Wage (£'000 per week)  Value (£'M)  \n",
       "0                     35           23  \n",
       "1                    176           34  \n",
       "2                     80           25  \n",
       "3                     70           28  \n",
       "4                    110           24  "
      ]
     },
     "execution_count": 30,
     "metadata": {},
     "output_type": "execute_result"
    }
   ],
   "source": [
    "df.reset_index(drop=True, inplace = True) # reset index while dropping old index \n",
    "df.head()"
   ]
  },
  {
   "cell_type": "code",
   "execution_count": 31,
   "metadata": {},
   "outputs": [
    {
     "name": "stdout",
     "output_type": "stream",
     "text": [
      "<class 'pandas.core.frame.DataFrame'>\n",
      "RangeIndex: 564 entries, 0 to 563\n",
      "Data columns (total 8 columns):\n",
      " #   Column                 Non-Null Count  Dtype \n",
      "---  ------                 --------------  ----- \n",
      " 0   Name                   564 non-null    object\n",
      " 1   Position               564 non-null    object\n",
      " 2   Age                    564 non-null    int64 \n",
      " 3   Nation                 564 non-null    object\n",
      " 4   Club                   564 non-null    object\n",
      " 5   Height (cm)            564 non-null    int64 \n",
      " 6   Wage (£'000 per week)  564 non-null    int64 \n",
      " 7   Value (£'M)            564 non-null    int64 \n",
      "dtypes: int64(4), object(4)\n",
      "memory usage: 35.4+ KB\n"
     ]
    }
   ],
   "source": [
    "df.info() # there are no missing values - data imputation is not required "
   ]
  },
  {
   "cell_type": "code",
   "execution_count": 32,
   "metadata": {},
   "outputs": [
    {
     "data": {
      "text/plain": [
       "Name                     0\n",
       "Position                 0\n",
       "Age                      0\n",
       "Nation                   0\n",
       "Club                     0\n",
       "Height (cm)              0\n",
       "Wage (£'000 per week)    0\n",
       "Value (£'M)              0\n",
       "dtype: int64"
      ]
     },
     "execution_count": 32,
     "metadata": {},
     "output_type": "execute_result"
    }
   ],
   "source": [
    "df.isna().sum() # double check - no missing values "
   ]
  },
  {
   "cell_type": "code",
   "execution_count": 33,
   "metadata": {},
   "outputs": [
    {
     "data": {
      "text/html": [
       "<div>\n",
       "<style scoped>\n",
       "    .dataframe tbody tr th:only-of-type {\n",
       "        vertical-align: middle;\n",
       "    }\n",
       "\n",
       "    .dataframe tbody tr th {\n",
       "        vertical-align: top;\n",
       "    }\n",
       "\n",
       "    .dataframe thead th {\n",
       "        text-align: right;\n",
       "    }\n",
       "</style>\n",
       "<table border=\"1\" class=\"dataframe\">\n",
       "  <thead>\n",
       "    <tr style=\"text-align: right;\">\n",
       "      <th></th>\n",
       "      <th>Age</th>\n",
       "      <th>Height (cm)</th>\n",
       "      <th>Wage (£'000 per week)</th>\n",
       "      <th>Value (£'M)</th>\n",
       "    </tr>\n",
       "  </thead>\n",
       "  <tbody>\n",
       "    <tr>\n",
       "      <th>count</th>\n",
       "      <td>564.000000</td>\n",
       "      <td>564.000000</td>\n",
       "      <td>564.000000</td>\n",
       "      <td>564.000000</td>\n",
       "    </tr>\n",
       "    <tr>\n",
       "      <th>mean</th>\n",
       "      <td>26.625887</td>\n",
       "      <td>181.643617</td>\n",
       "      <td>115.588652</td>\n",
       "      <td>36.452128</td>\n",
       "    </tr>\n",
       "    <tr>\n",
       "      <th>std</th>\n",
       "      <td>3.726927</td>\n",
       "      <td>6.608752</td>\n",
       "      <td>91.797392</td>\n",
       "      <td>75.594455</td>\n",
       "    </tr>\n",
       "    <tr>\n",
       "      <th>min</th>\n",
       "      <td>18.000000</td>\n",
       "      <td>163.000000</td>\n",
       "      <td>1.000000</td>\n",
       "      <td>2.000000</td>\n",
       "    </tr>\n",
       "    <tr>\n",
       "      <th>25%</th>\n",
       "      <td>24.000000</td>\n",
       "      <td>177.000000</td>\n",
       "      <td>61.000000</td>\n",
       "      <td>21.000000</td>\n",
       "    </tr>\n",
       "    <tr>\n",
       "      <th>50%</th>\n",
       "      <td>26.000000</td>\n",
       "      <td>182.000000</td>\n",
       "      <td>92.000000</td>\n",
       "      <td>27.000000</td>\n",
       "    </tr>\n",
       "    <tr>\n",
       "      <th>75%</th>\n",
       "      <td>29.000000</td>\n",
       "      <td>186.250000</td>\n",
       "      <td>138.000000</td>\n",
       "      <td>37.000000</td>\n",
       "    </tr>\n",
       "    <tr>\n",
       "      <th>max</th>\n",
       "      <td>38.000000</td>\n",
       "      <td>199.000000</td>\n",
       "      <td>950.000000</td>\n",
       "      <td>991.000000</td>\n",
       "    </tr>\n",
       "  </tbody>\n",
       "</table>\n",
       "</div>"
      ],
      "text/plain": [
       "              Age  Height (cm)  Wage (£'000 per week)  Value (£'M)\n",
       "count  564.000000   564.000000             564.000000   564.000000\n",
       "mean    26.625887   181.643617             115.588652    36.452128\n",
       "std      3.726927     6.608752              91.797392    75.594455\n",
       "min     18.000000   163.000000               1.000000     2.000000\n",
       "25%     24.000000   177.000000              61.000000    21.000000\n",
       "50%     26.000000   182.000000              92.000000    27.000000\n",
       "75%     29.000000   186.250000             138.000000    37.000000\n",
       "max     38.000000   199.000000             950.000000   991.000000"
      ]
     },
     "execution_count": 33,
     "metadata": {},
     "output_type": "execute_result"
    }
   ],
   "source": [
    "df.describe() # check for outliers and anomaly \n",
    "# the minimum wage is £1,000 per week. it is not possible. \n",
    "# the maximun value is £991M. it is not possible. "
   ]
  },
  {
   "cell_type": "code",
   "execution_count": 34,
   "metadata": {},
   "outputs": [
    {
     "data": {
      "text/html": [
       "<div>\n",
       "<style scoped>\n",
       "    .dataframe tbody tr th:only-of-type {\n",
       "        vertical-align: middle;\n",
       "    }\n",
       "\n",
       "    .dataframe tbody tr th {\n",
       "        vertical-align: top;\n",
       "    }\n",
       "\n",
       "    .dataframe thead th {\n",
       "        text-align: right;\n",
       "    }\n",
       "</style>\n",
       "<table border=\"1\" class=\"dataframe\">\n",
       "  <thead>\n",
       "    <tr style=\"text-align: right;\">\n",
       "      <th></th>\n",
       "      <th>Name</th>\n",
       "      <th>Position</th>\n",
       "      <th>Age</th>\n",
       "      <th>Nation</th>\n",
       "      <th>Club</th>\n",
       "      <th>Height (cm)</th>\n",
       "      <th>Wage (£'000 per week)</th>\n",
       "      <th>Value (£'M)</th>\n",
       "    </tr>\n",
       "  </thead>\n",
       "  <tbody>\n",
       "    <tr>\n",
       "      <th>250</th>\n",
       "      <td>Lionel Messi</td>\n",
       "      <td>AMR AMC ST</td>\n",
       "      <td>32</td>\n",
       "      <td>ARG</td>\n",
       "      <td>Barcelona</td>\n",
       "      <td>170</td>\n",
       "      <td>1</td>\n",
       "      <td>72</td>\n",
       "    </tr>\n",
       "  </tbody>\n",
       "</table>\n",
       "</div>"
      ],
      "text/plain": [
       "             Name    Position  Age Nation       Club  Height (cm)  \\\n",
       "250  Lionel Messi  AMR AMC ST   32    ARG  Barcelona          170   \n",
       "\n",
       "     Wage (£'000 per week)  Value (£'M)  \n",
       "250                      1           72  "
      ]
     },
     "execution_count": 34,
     "metadata": {},
     "output_type": "execute_result"
    }
   ],
   "source": [
    "# investigate wages\n",
    "df[df[\"Wage (£'000 per week)\"] == 1] \n",
    "# Messi is the highest paid footballer in the world. \n",
    "# His wages are supposed to be £1,000k per week, not £1,000 per week"
   ]
  },
  {
   "cell_type": "code",
   "execution_count": 35,
   "metadata": {},
   "outputs": [
    {
     "data": {
      "text/html": [
       "<div>\n",
       "<style scoped>\n",
       "    .dataframe tbody tr th:only-of-type {\n",
       "        vertical-align: middle;\n",
       "    }\n",
       "\n",
       "    .dataframe tbody tr th {\n",
       "        vertical-align: top;\n",
       "    }\n",
       "\n",
       "    .dataframe thead th {\n",
       "        text-align: right;\n",
       "    }\n",
       "</style>\n",
       "<table border=\"1\" class=\"dataframe\">\n",
       "  <thead>\n",
       "    <tr style=\"text-align: right;\">\n",
       "      <th></th>\n",
       "      <th>Name</th>\n",
       "      <th>Position</th>\n",
       "      <th>Age</th>\n",
       "      <th>Nation</th>\n",
       "      <th>Club</th>\n",
       "      <th>Height (cm)</th>\n",
       "      <th>Wage (£'000 per week)</th>\n",
       "      <th>Value (£'M)</th>\n",
       "    </tr>\n",
       "  </thead>\n",
       "  <tbody>\n",
       "    <tr>\n",
       "      <th>79</th>\n",
       "      <td>Cristiano Ronaldo</td>\n",
       "      <td>AMR AML ST</td>\n",
       "      <td>34</td>\n",
       "      <td>POR</td>\n",
       "      <td>Zebre</td>\n",
       "      <td>185</td>\n",
       "      <td>950</td>\n",
       "      <td>30</td>\n",
       "    </tr>\n",
       "    <tr>\n",
       "      <th>250</th>\n",
       "      <td>Lionel Messi</td>\n",
       "      <td>AMR AMC ST</td>\n",
       "      <td>32</td>\n",
       "      <td>ARG</td>\n",
       "      <td>Barcelona</td>\n",
       "      <td>170</td>\n",
       "      <td>1000</td>\n",
       "      <td>72</td>\n",
       "    </tr>\n",
       "  </tbody>\n",
       "</table>\n",
       "</div>"
      ],
      "text/plain": [
       "                  Name    Position  Age Nation       Club  Height (cm)  \\\n",
       "79   Cristiano Ronaldo  AMR AML ST   34    POR      Zebre          185   \n",
       "250       Lionel Messi  AMR AMC ST   32    ARG  Barcelona          170   \n",
       "\n",
       "     Wage (£'000 per week)  Value (£'M)  \n",
       "79                     950           30  \n",
       "250                   1000           72  "
      ]
     },
     "execution_count": 35,
     "metadata": {},
     "output_type": "execute_result"
    }
   ],
   "source": [
    "# Amend Messi's wages \n",
    "df.at[250,\"Wage (£'000 per week)\"] = 1000\n",
    "df[df[\"Wage (£'000 per week)\"] > 800] # Messi's wages have been amended "
   ]
  },
  {
   "cell_type": "code",
   "execution_count": 36,
   "metadata": {},
   "outputs": [
    {
     "data": {
      "text/html": [
       "<div>\n",
       "<style scoped>\n",
       "    .dataframe tbody tr th:only-of-type {\n",
       "        vertical-align: middle;\n",
       "    }\n",
       "\n",
       "    .dataframe tbody tr th {\n",
       "        vertical-align: top;\n",
       "    }\n",
       "\n",
       "    .dataframe thead th {\n",
       "        text-align: right;\n",
       "    }\n",
       "</style>\n",
       "<table border=\"1\" class=\"dataframe\">\n",
       "  <thead>\n",
       "    <tr style=\"text-align: right;\">\n",
       "      <th></th>\n",
       "      <th>Name</th>\n",
       "      <th>Position</th>\n",
       "      <th>Age</th>\n",
       "      <th>Nation</th>\n",
       "      <th>Club</th>\n",
       "      <th>Height (cm)</th>\n",
       "      <th>Wage (£'000 per week)</th>\n",
       "      <th>Value (£'M)</th>\n",
       "    </tr>\n",
       "  </thead>\n",
       "  <tbody>\n",
       "    <tr>\n",
       "      <th>452</th>\n",
       "      <td>Borja Valero</td>\n",
       "      <td>AMC</td>\n",
       "      <td>34</td>\n",
       "      <td>ESP</td>\n",
       "      <td>Inter</td>\n",
       "      <td>175</td>\n",
       "      <td>77</td>\n",
       "      <td>991</td>\n",
       "    </tr>\n",
       "    <tr>\n",
       "      <th>487</th>\n",
       "      <td>Ignacio Rivero</td>\n",
       "      <td>AMR AML</td>\n",
       "      <td>27</td>\n",
       "      <td>URU</td>\n",
       "      <td>Tijuana</td>\n",
       "      <td>166</td>\n",
       "      <td>155</td>\n",
       "      <td>952</td>\n",
       "    </tr>\n",
       "    <tr>\n",
       "      <th>540</th>\n",
       "      <td>Pepe Reina</td>\n",
       "      <td>GK</td>\n",
       "      <td>36</td>\n",
       "      <td>ESP</td>\n",
       "      <td>Aston Villa</td>\n",
       "      <td>188</td>\n",
       "      <td>92</td>\n",
       "      <td>802</td>\n",
       "    </tr>\n",
       "    <tr>\n",
       "      <th>488</th>\n",
       "      <td>Iker Casillas</td>\n",
       "      <td>GK</td>\n",
       "      <td>38</td>\n",
       "      <td>ESP</td>\n",
       "      <td>FCP</td>\n",
       "      <td>182</td>\n",
       "      <td>108</td>\n",
       "      <td>785</td>\n",
       "    </tr>\n",
       "    <tr>\n",
       "      <th>563</th>\n",
       "      <td>Zlatan Ibrahimovic</td>\n",
       "      <td>ST</td>\n",
       "      <td>37</td>\n",
       "      <td>SWE</td>\n",
       "      <td>LA Galaxy</td>\n",
       "      <td>195</td>\n",
       "      <td>108</td>\n",
       "      <td>401</td>\n",
       "    </tr>\n",
       "    <tr>\n",
       "      <th>451</th>\n",
       "      <td>Bastian Schweinsteiger</td>\n",
       "      <td>DC DM</td>\n",
       "      <td>34</td>\n",
       "      <td>GER</td>\n",
       "      <td>Chicago</td>\n",
       "      <td>183</td>\n",
       "      <td>84</td>\n",
       "      <td>189</td>\n",
       "    </tr>\n",
       "    <tr>\n",
       "      <th>316</th>\n",
       "      <td>Neymar</td>\n",
       "      <td>AML AMC ST</td>\n",
       "      <td>27</td>\n",
       "      <td>BRA</td>\n",
       "      <td>Paris SG</td>\n",
       "      <td>175</td>\n",
       "      <td>606</td>\n",
       "      <td>91</td>\n",
       "    </tr>\n",
       "    <tr>\n",
       "      <th>231</th>\n",
       "      <td>Kevin De Bruyne</td>\n",
       "      <td>AMR AML AMC</td>\n",
       "      <td>28</td>\n",
       "      <td>BEL</td>\n",
       "      <td>Man City</td>\n",
       "      <td>181</td>\n",
       "      <td>230</td>\n",
       "      <td>88</td>\n",
       "    </tr>\n",
       "    <tr>\n",
       "      <th>241</th>\n",
       "      <td>Kylian Mbappe</td>\n",
       "      <td>AMR AML ST</td>\n",
       "      <td>20</td>\n",
       "      <td>FRA</td>\n",
       "      <td>Paris SG</td>\n",
       "      <td>178</td>\n",
       "      <td>378</td>\n",
       "      <td>86</td>\n",
       "    </tr>\n",
       "    <tr>\n",
       "      <th>114</th>\n",
       "      <td>Eden Hazard</td>\n",
       "      <td>AMR AML AMC</td>\n",
       "      <td>28</td>\n",
       "      <td>BEL</td>\n",
       "      <td>R. Madrid</td>\n",
       "      <td>173</td>\n",
       "      <td>532</td>\n",
       "      <td>82</td>\n",
       "    </tr>\n",
       "  </tbody>\n",
       "</table>\n",
       "</div>"
      ],
      "text/plain": [
       "                       Name     Position  Age Nation         Club  \\\n",
       "452            Borja Valero          AMC   34    ESP        Inter   \n",
       "487          Ignacio Rivero      AMR AML   27    URU      Tijuana   \n",
       "540              Pepe Reina           GK   36    ESP  Aston Villa   \n",
       "488           Iker Casillas           GK   38    ESP          FCP   \n",
       "563      Zlatan Ibrahimovic           ST   37    SWE    LA Galaxy   \n",
       "451  Bastian Schweinsteiger        DC DM   34    GER      Chicago   \n",
       "316                  Neymar   AML AMC ST   27    BRA     Paris SG   \n",
       "231         Kevin De Bruyne  AMR AML AMC   28    BEL     Man City   \n",
       "241           Kylian Mbappe   AMR AML ST   20    FRA     Paris SG   \n",
       "114             Eden Hazard  AMR AML AMC   28    BEL    R. Madrid   \n",
       "\n",
       "     Height (cm)  Wage (£'000 per week)  Value (£'M)  \n",
       "452          175                     77          991  \n",
       "487          166                    155          952  \n",
       "540          188                     92          802  \n",
       "488          182                    108          785  \n",
       "563          195                    108          401  \n",
       "451          183                     84          189  \n",
       "316          175                    606           91  \n",
       "231          181                    230           88  \n",
       "241          178                    378           86  \n",
       "114          173                    532           82  "
      ]
     },
     "execution_count": 36,
     "metadata": {},
     "output_type": "execute_result"
    }
   ],
   "source": [
    "# investigate value \n",
    "df.sort_values(by=\"Value (£'M)\", ascending=False)[:10] # filter top 10 players by value "
   ]
  },
  {
   "cell_type": "code",
   "execution_count": 37,
   "metadata": {},
   "outputs": [
    {
     "name": "stderr",
     "output_type": "stream",
     "text": [
      "C:\\Users\\User\\anaconda3\\lib\\site-packages\\pandas\\core\\indexing.py:671: SettingWithCopyWarning: \n",
      "A value is trying to be set on a copy of a slice from a DataFrame\n",
      "\n",
      "See the caveats in the documentation: https://pandas.pydata.org/pandas-docs/stable/user_guide/indexing.html#returning-a-view-versus-a-copy\n",
      "  self._setitem_with_indexer(indexer, value)\n"
     ]
    }
   ],
   "source": [
    "# logically, Neymar is the world's most expensive player. \n",
    "# players above him should have their values reduced by a magnitude of 10^3\n",
    "df[\"Value (£'M)\"].iloc[[452,487,540,488,563,451]] = df[\"Value (£'M)\"].iloc[[452,487,540,488,563,451]] /1000"
   ]
  },
  {
   "cell_type": "code",
   "execution_count": 38,
   "metadata": {},
   "outputs": [
    {
     "data": {
      "text/html": [
       "<div>\n",
       "<style scoped>\n",
       "    .dataframe tbody tr th:only-of-type {\n",
       "        vertical-align: middle;\n",
       "    }\n",
       "\n",
       "    .dataframe tbody tr th {\n",
       "        vertical-align: top;\n",
       "    }\n",
       "\n",
       "    .dataframe thead th {\n",
       "        text-align: right;\n",
       "    }\n",
       "</style>\n",
       "<table border=\"1\" class=\"dataframe\">\n",
       "  <thead>\n",
       "    <tr style=\"text-align: right;\">\n",
       "      <th></th>\n",
       "      <th>Name</th>\n",
       "      <th>Position</th>\n",
       "      <th>Age</th>\n",
       "      <th>Nation</th>\n",
       "      <th>Club</th>\n",
       "      <th>Height (cm)</th>\n",
       "      <th>Wage (£'000 per week)</th>\n",
       "      <th>Value (£'M)</th>\n",
       "    </tr>\n",
       "  </thead>\n",
       "  <tbody>\n",
       "    <tr>\n",
       "      <th>316</th>\n",
       "      <td>Neymar</td>\n",
       "      <td>AML AMC ST</td>\n",
       "      <td>27</td>\n",
       "      <td>BRA</td>\n",
       "      <td>Paris SG</td>\n",
       "      <td>175</td>\n",
       "      <td>606</td>\n",
       "      <td>91.0</td>\n",
       "    </tr>\n",
       "    <tr>\n",
       "      <th>231</th>\n",
       "      <td>Kevin De Bruyne</td>\n",
       "      <td>AMR AML AMC</td>\n",
       "      <td>28</td>\n",
       "      <td>BEL</td>\n",
       "      <td>Man City</td>\n",
       "      <td>181</td>\n",
       "      <td>230</td>\n",
       "      <td>88.0</td>\n",
       "    </tr>\n",
       "    <tr>\n",
       "      <th>241</th>\n",
       "      <td>Kylian Mbappe</td>\n",
       "      <td>AMR AML ST</td>\n",
       "      <td>20</td>\n",
       "      <td>FRA</td>\n",
       "      <td>Paris SG</td>\n",
       "      <td>178</td>\n",
       "      <td>378</td>\n",
       "      <td>86.0</td>\n",
       "    </tr>\n",
       "    <tr>\n",
       "      <th>114</th>\n",
       "      <td>Eden Hazard</td>\n",
       "      <td>AMR AML AMC</td>\n",
       "      <td>28</td>\n",
       "      <td>BEL</td>\n",
       "      <td>R. Madrid</td>\n",
       "      <td>173</td>\n",
       "      <td>532</td>\n",
       "      <td>82.0</td>\n",
       "    </tr>\n",
       "    <tr>\n",
       "      <th>355</th>\n",
       "      <td>Robert Lewandowski</td>\n",
       "      <td>ST</td>\n",
       "      <td>30</td>\n",
       "      <td>POL</td>\n",
       "      <td>FC Bayern</td>\n",
       "      <td>184</td>\n",
       "      <td>331</td>\n",
       "      <td>80.0</td>\n",
       "    </tr>\n",
       "    <tr>\n",
       "      <th>371</th>\n",
       "      <td>Sadio Mane</td>\n",
       "      <td>AMR AML ST</td>\n",
       "      <td>27</td>\n",
       "      <td>SEN</td>\n",
       "      <td>Liverpool</td>\n",
       "      <td>175</td>\n",
       "      <td>180</td>\n",
       "      <td>79.0</td>\n",
       "    </tr>\n",
       "    <tr>\n",
       "      <th>306</th>\n",
       "      <td>Mohamed Salah</td>\n",
       "      <td>AMR AML ST</td>\n",
       "      <td>27</td>\n",
       "      <td>EGY</td>\n",
       "      <td>Liverpool</td>\n",
       "      <td>175</td>\n",
       "      <td>200</td>\n",
       "      <td>79.0</td>\n",
       "    </tr>\n",
       "    <tr>\n",
       "      <th>163</th>\n",
       "      <td>Harry Kane</td>\n",
       "      <td>AMC ST</td>\n",
       "      <td>25</td>\n",
       "      <td>ENG</td>\n",
       "      <td>Tottenham</td>\n",
       "      <td>188</td>\n",
       "      <td>200</td>\n",
       "      <td>77.0</td>\n",
       "    </tr>\n",
       "    <tr>\n",
       "      <th>40</th>\n",
       "      <td>Antoine Griezmann</td>\n",
       "      <td>AMR AML AMC ST</td>\n",
       "      <td>28</td>\n",
       "      <td>FRA</td>\n",
       "      <td>Barcelona</td>\n",
       "      <td>175</td>\n",
       "      <td>560</td>\n",
       "      <td>75.0</td>\n",
       "    </tr>\n",
       "    <tr>\n",
       "      <th>145</th>\n",
       "      <td>Gareth Bale</td>\n",
       "      <td>AMR AML AMC ST</td>\n",
       "      <td>29</td>\n",
       "      <td>WAL</td>\n",
       "      <td>R. Madrid</td>\n",
       "      <td>185</td>\n",
       "      <td>532</td>\n",
       "      <td>75.0</td>\n",
       "    </tr>\n",
       "  </tbody>\n",
       "</table>\n",
       "</div>"
      ],
      "text/plain": [
       "                   Name        Position  Age Nation       Club  Height (cm)  \\\n",
       "316              Neymar      AML AMC ST   27    BRA   Paris SG          175   \n",
       "231     Kevin De Bruyne     AMR AML AMC   28    BEL   Man City          181   \n",
       "241       Kylian Mbappe      AMR AML ST   20    FRA   Paris SG          178   \n",
       "114         Eden Hazard     AMR AML AMC   28    BEL  R. Madrid          173   \n",
       "355  Robert Lewandowski              ST   30    POL  FC Bayern          184   \n",
       "371          Sadio Mane      AMR AML ST   27    SEN  Liverpool          175   \n",
       "306       Mohamed Salah      AMR AML ST   27    EGY  Liverpool          175   \n",
       "163          Harry Kane          AMC ST   25    ENG  Tottenham          188   \n",
       "40    Antoine Griezmann  AMR AML AMC ST   28    FRA  Barcelona          175   \n",
       "145         Gareth Bale  AMR AML AMC ST   29    WAL  R. Madrid          185   \n",
       "\n",
       "     Wage (£'000 per week)  Value (£'M)  \n",
       "316                    606         91.0  \n",
       "231                    230         88.0  \n",
       "241                    378         86.0  \n",
       "114                    532         82.0  \n",
       "355                    331         80.0  \n",
       "371                    180         79.0  \n",
       "306                    200         79.0  \n",
       "163                    200         77.0  \n",
       "40                     560         75.0  \n",
       "145                    532         75.0  "
      ]
     },
     "execution_count": 38,
     "metadata": {},
     "output_type": "execute_result"
    }
   ],
   "source": [
    "df.sort_values(by=\"Value (£'M)\", ascending=False)[:10] # filter top 10 players by value "
   ]
  },
  {
   "cell_type": "code",
   "execution_count": 39,
   "metadata": {},
   "outputs": [
    {
     "data": {
      "text/plain": [
       "Name                      object\n",
       "Position                  object\n",
       "Age                        int64\n",
       "Nation                    object\n",
       "Club                      object\n",
       "Height (cm)                int64\n",
       "Wage (£'000 per week)      int64\n",
       "Value (£'M)              float64\n",
       "dtype: object"
      ]
     },
     "execution_count": 39,
     "metadata": {},
     "output_type": "execute_result"
    }
   ],
   "source": [
    "df.dtypes # dtypes are correct"
   ]
  },
  {
   "cell_type": "markdown",
   "metadata": {},
   "source": [
    "### Save Cleaned DataFrame to CSV "
   ]
  },
  {
   "cell_type": "code",
   "execution_count": 40,
   "metadata": {},
   "outputs": [],
   "source": [
    "df.to_csv(\"fm_clean.csv\", index=False)"
   ]
  },
  {
   "cell_type": "markdown",
   "metadata": {},
   "source": [
    "### Exploratory Data Analysis\n",
    "* Who are the most expensive players? \n",
    "* Who are the highest paid players?\n",
    "* Which club has the most number of players in this list? What is their median value?\n",
    "* What is the demographic of the players in this list? How does player value vary with age? \n",
    "* What is the distribution of player value? \n",
    "* What is the distribution of wages? \n",
    "* How does player value vary with wage? \n",
    "\n",
    "Finally, is the EPL the most valuable league in the world?"
   ]
  },
  {
   "cell_type": "code",
   "execution_count": 41,
   "metadata": {},
   "outputs": [
    {
     "data": {
      "text/html": [
       "<div>\n",
       "<style scoped>\n",
       "    .dataframe tbody tr th:only-of-type {\n",
       "        vertical-align: middle;\n",
       "    }\n",
       "\n",
       "    .dataframe tbody tr th {\n",
       "        vertical-align: top;\n",
       "    }\n",
       "\n",
       "    .dataframe thead th {\n",
       "        text-align: right;\n",
       "    }\n",
       "</style>\n",
       "<table border=\"1\" class=\"dataframe\">\n",
       "  <thead>\n",
       "    <tr style=\"text-align: right;\">\n",
       "      <th></th>\n",
       "      <th>Club</th>\n",
       "      <th>EPL</th>\n",
       "    </tr>\n",
       "  </thead>\n",
       "  <tbody>\n",
       "    <tr>\n",
       "      <th>0</th>\n",
       "      <td>Arsenal</td>\n",
       "      <td>1</td>\n",
       "    </tr>\n",
       "    <tr>\n",
       "      <th>1</th>\n",
       "      <td>Aston Villa</td>\n",
       "      <td>1</td>\n",
       "    </tr>\n",
       "    <tr>\n",
       "      <th>2</th>\n",
       "      <td>Bournemouth</td>\n",
       "      <td>1</td>\n",
       "    </tr>\n",
       "  </tbody>\n",
       "</table>\n",
       "</div>"
      ],
      "text/plain": [
       "          Club  EPL\n",
       "0      Arsenal    1\n",
       "1  Aston Villa    1\n",
       "2  Bournemouth    1"
      ]
     },
     "execution_count": 41,
     "metadata": {},
     "output_type": "execute_result"
    }
   ],
   "source": [
    "# prepare epl lookup table \n",
    "epl = pd.DataFrame(['Arsenal','Aston Villa','Bournemouth','Brighton','Burnley','Chelsea',\n",
    "       'Crystal Palace','Everton','Fulham','Leicester','Liverpool','Man City',\n",
    "       'Man Utd','Newcastle','Norwich','Southampton','Sheff Utd','Swansea',\n",
    "       'Tottenham','Watford','West Ham','Wolves'], columns = ['Club'])\n",
    "epl['EPL'] = 1\n",
    "epl.head(3)"
   ]
  },
  {
   "cell_type": "code",
   "execution_count": 42,
   "metadata": {},
   "outputs": [
    {
     "data": {
      "text/html": [
       "<div>\n",
       "<style scoped>\n",
       "    .dataframe tbody tr th:only-of-type {\n",
       "        vertical-align: middle;\n",
       "    }\n",
       "\n",
       "    .dataframe tbody tr th {\n",
       "        vertical-align: top;\n",
       "    }\n",
       "\n",
       "    .dataframe thead th {\n",
       "        text-align: right;\n",
       "    }\n",
       "</style>\n",
       "<table border=\"1\" class=\"dataframe\">\n",
       "  <thead>\n",
       "    <tr style=\"text-align: right;\">\n",
       "      <th></th>\n",
       "      <th>Name</th>\n",
       "      <th>Position</th>\n",
       "      <th>Age</th>\n",
       "      <th>Nation</th>\n",
       "      <th>Club</th>\n",
       "      <th>Height (cm)</th>\n",
       "      <th>Wage (£'000 per week)</th>\n",
       "      <th>Value (£'M)</th>\n",
       "    </tr>\n",
       "  </thead>\n",
       "  <tbody>\n",
       "    <tr>\n",
       "      <th>0</th>\n",
       "      <td>Aaron Mooy</td>\n",
       "      <td>AMC</td>\n",
       "      <td>28</td>\n",
       "      <td>AUS</td>\n",
       "      <td>Brighton</td>\n",
       "      <td>179</td>\n",
       "      <td>35</td>\n",
       "      <td>23.0</td>\n",
       "    </tr>\n",
       "    <tr>\n",
       "      <th>1</th>\n",
       "      <td>Aaron Ramsey</td>\n",
       "      <td>AMR AMC</td>\n",
       "      <td>28</td>\n",
       "      <td>WAL</td>\n",
       "      <td>Zebre</td>\n",
       "      <td>178</td>\n",
       "      <td>176</td>\n",
       "      <td>34.0</td>\n",
       "    </tr>\n",
       "    <tr>\n",
       "      <th>2</th>\n",
       "      <td>Aaron Wan-Bissaka</td>\n",
       "      <td>DR WBR</td>\n",
       "      <td>21</td>\n",
       "      <td>ENG</td>\n",
       "      <td>Man Utd</td>\n",
       "      <td>183</td>\n",
       "      <td>80</td>\n",
       "      <td>25.0</td>\n",
       "    </tr>\n",
       "    <tr>\n",
       "      <th>3</th>\n",
       "      <td>Abdoulaye Doucoure</td>\n",
       "      <td>DM AMC</td>\n",
       "      <td>26</td>\n",
       "      <td>FRA</td>\n",
       "      <td>Watford</td>\n",
       "      <td>183</td>\n",
       "      <td>70</td>\n",
       "      <td>28.0</td>\n",
       "    </tr>\n",
       "    <tr>\n",
       "      <th>4</th>\n",
       "      <td>Adam Lallana</td>\n",
       "      <td>DM AMR AML AMC</td>\n",
       "      <td>31</td>\n",
       "      <td>ENG</td>\n",
       "      <td>Liverpool</td>\n",
       "      <td>173</td>\n",
       "      <td>110</td>\n",
       "      <td>24.0</td>\n",
       "    </tr>\n",
       "  </tbody>\n",
       "</table>\n",
       "</div>"
      ],
      "text/plain": [
       "                 Name        Position  Age Nation       Club  Height (cm)  \\\n",
       "0          Aaron Mooy             AMC   28    AUS   Brighton          179   \n",
       "1        Aaron Ramsey         AMR AMC   28    WAL      Zebre          178   \n",
       "2   Aaron Wan-Bissaka          DR WBR   21    ENG    Man Utd          183   \n",
       "3  Abdoulaye Doucoure          DM AMC   26    FRA    Watford          183   \n",
       "4        Adam Lallana  DM AMR AML AMC   31    ENG  Liverpool          173   \n",
       "\n",
       "   Wage (£'000 per week)  Value (£'M)  \n",
       "0                     35         23.0  \n",
       "1                    176         34.0  \n",
       "2                     80         25.0  \n",
       "3                     70         28.0  \n",
       "4                    110         24.0  "
      ]
     },
     "execution_count": 42,
     "metadata": {},
     "output_type": "execute_result"
    }
   ],
   "source": [
    "df = pd.read_csv('fm_clean.csv')\n",
    "df.head()"
   ]
  },
  {
   "cell_type": "code",
   "execution_count": 43,
   "metadata": {},
   "outputs": [],
   "source": [
    "df = pd.merge(df,epl, on='Club', how='left') # execute only once"
   ]
  },
  {
   "cell_type": "code",
   "execution_count": 44,
   "metadata": {},
   "outputs": [
    {
     "data": {
      "text/html": [
       "<div>\n",
       "<style scoped>\n",
       "    .dataframe tbody tr th:only-of-type {\n",
       "        vertical-align: middle;\n",
       "    }\n",
       "\n",
       "    .dataframe tbody tr th {\n",
       "        vertical-align: top;\n",
       "    }\n",
       "\n",
       "    .dataframe thead th {\n",
       "        text-align: right;\n",
       "    }\n",
       "</style>\n",
       "<table border=\"1\" class=\"dataframe\">\n",
       "  <thead>\n",
       "    <tr style=\"text-align: right;\">\n",
       "      <th></th>\n",
       "      <th>Name</th>\n",
       "      <th>Position</th>\n",
       "      <th>Age</th>\n",
       "      <th>Nation</th>\n",
       "      <th>Club</th>\n",
       "      <th>Height (cm)</th>\n",
       "      <th>Wage (£'000 per week)</th>\n",
       "      <th>Value (£'M)</th>\n",
       "      <th>EPL</th>\n",
       "    </tr>\n",
       "  </thead>\n",
       "  <tbody>\n",
       "    <tr>\n",
       "      <th>0</th>\n",
       "      <td>Aaron Mooy</td>\n",
       "      <td>AMC</td>\n",
       "      <td>28</td>\n",
       "      <td>AUS</td>\n",
       "      <td>Brighton</td>\n",
       "      <td>179</td>\n",
       "      <td>35</td>\n",
       "      <td>23.0</td>\n",
       "      <td>1</td>\n",
       "    </tr>\n",
       "    <tr>\n",
       "      <th>1</th>\n",
       "      <td>Aaron Ramsey</td>\n",
       "      <td>AMR AMC</td>\n",
       "      <td>28</td>\n",
       "      <td>WAL</td>\n",
       "      <td>Zebre</td>\n",
       "      <td>178</td>\n",
       "      <td>176</td>\n",
       "      <td>34.0</td>\n",
       "      <td>0</td>\n",
       "    </tr>\n",
       "    <tr>\n",
       "      <th>2</th>\n",
       "      <td>Aaron Wan-Bissaka</td>\n",
       "      <td>DR WBR</td>\n",
       "      <td>21</td>\n",
       "      <td>ENG</td>\n",
       "      <td>Man Utd</td>\n",
       "      <td>183</td>\n",
       "      <td>80</td>\n",
       "      <td>25.0</td>\n",
       "      <td>1</td>\n",
       "    </tr>\n",
       "    <tr>\n",
       "      <th>3</th>\n",
       "      <td>Abdoulaye Doucoure</td>\n",
       "      <td>DM AMC</td>\n",
       "      <td>26</td>\n",
       "      <td>FRA</td>\n",
       "      <td>Watford</td>\n",
       "      <td>183</td>\n",
       "      <td>70</td>\n",
       "      <td>28.0</td>\n",
       "      <td>1</td>\n",
       "    </tr>\n",
       "    <tr>\n",
       "      <th>4</th>\n",
       "      <td>Adam Lallana</td>\n",
       "      <td>DM AMR AML AMC</td>\n",
       "      <td>31</td>\n",
       "      <td>ENG</td>\n",
       "      <td>Liverpool</td>\n",
       "      <td>173</td>\n",
       "      <td>110</td>\n",
       "      <td>24.0</td>\n",
       "      <td>1</td>\n",
       "    </tr>\n",
       "  </tbody>\n",
       "</table>\n",
       "</div>"
      ],
      "text/plain": [
       "                 Name        Position  Age Nation       Club  Height (cm)  \\\n",
       "0          Aaron Mooy             AMC   28    AUS   Brighton          179   \n",
       "1        Aaron Ramsey         AMR AMC   28    WAL      Zebre          178   \n",
       "2   Aaron Wan-Bissaka          DR WBR   21    ENG    Man Utd          183   \n",
       "3  Abdoulaye Doucoure          DM AMC   26    FRA    Watford          183   \n",
       "4        Adam Lallana  DM AMR AML AMC   31    ENG  Liverpool          173   \n",
       "\n",
       "   Wage (£'000 per week)  Value (£'M)  EPL  \n",
       "0                     35         23.0    1  \n",
       "1                    176         34.0    0  \n",
       "2                     80         25.0    1  \n",
       "3                     70         28.0    1  \n",
       "4                    110         24.0    1  "
      ]
     },
     "execution_count": 44,
     "metadata": {},
     "output_type": "execute_result"
    }
   ],
   "source": [
    "df['EPL'] = df['EPL'].fillna(0).astype(int)\n",
    "df.head() "
   ]
  },
  {
   "cell_type": "code",
   "execution_count": 45,
   "metadata": {},
   "outputs": [
    {
     "data": {
      "text/plain": [
       "(564, 9)"
      ]
     },
     "execution_count": 45,
     "metadata": {},
     "output_type": "execute_result"
    }
   ],
   "source": [
    "df.shape # check shape "
   ]
  },
  {
   "cell_type": "code",
   "execution_count": 46,
   "metadata": {},
   "outputs": [
    {
     "data": {
      "text/plain": [
       "0.363"
      ]
     },
     "execution_count": 46,
     "metadata": {},
     "output_type": "execute_result"
    }
   ],
   "source": [
    "round(df['EPL'].mean(),3)\n",
    "# More than a third (36.3%) of the world's most expensive or highest paid players play in the EPL "
   ]
  },
  {
   "cell_type": "code",
   "execution_count": 47,
   "metadata": {},
   "outputs": [
    {
     "name": "stderr",
     "output_type": "stream",
     "text": [
      "<ipython-input-47-d7295758c2d5>:3: MatplotlibDeprecationWarning: Adding an axes using the same arguments as a previous axes currently reuses the earlier instance.  In a future version, a new instance will always be created and returned.  Meanwhile, this warning can be suppressed, and the future behavior ensured, by passing a unique label to each axes instance.\n",
      "  plt.axes().set_ylabel('')\n"
     ]
    },
    {
     "data": {
      "text/plain": [
       "Text(0.5, 1.0, 'Player proportion')"
      ]
     },
     "execution_count": 47,
     "metadata": {},
     "output_type": "execute_result"
    },
    {
     "data": {
      "image/png": "[encoded data removed]",
      "text/plain": [
       "<Figure size 936x360 with 1 Axes>"
      ]
     },
     "metadata": {},
     "output_type": "display_data"
    }
   ],
   "source": [
    "# visualisation \n",
    "df['EPL'].value_counts().plot(kind='pie',figsize=(13,5),labels=['Others','EPL'],autopct='%1.1f%%')\n",
    "plt.axes().set_ylabel('')\n",
    "plt.title('Player proportion')"
   ]
  },
  {
   "cell_type": "code",
   "execution_count": 48,
   "metadata": {},
   "outputs": [],
   "source": [
    "# Who are the top 20 most expensive players? \n",
    "top_plyr_val = df.sort_values(by=\"Value (£'M)\", ascending=False).head(20)\n",
    "top_plyr_val = top_plyr_val.sort_values(by=\"Value (£'M)\", ascending = True)"
   ]
  },
  {
   "cell_type": "code",
   "execution_count": 49,
   "metadata": {},
   "outputs": [
    {
     "data": {
      "image/png": "[encoded data removed]",
      "text/plain": [
       "<Figure size 432x288 with 1 Axes>"
      ]
     },
     "metadata": {
      "needs_background": "light"
     },
     "output_type": "display_data"
    }
   ],
   "source": [
    "plt.barh(top_plyr_val[\"Name\"], top_plyr_val[\"Value (£'M)\"], color=(top_plyr_val[\"EPL\"]==1).map({True:'g',False:'silver'}))\n",
    "plt.xlabel(\"Value (£'M)\")\n",
    "plt.ylabel('Name')\n",
    "plt.title('Top 20 most expensive players')\n",
    "plt.legend(['EPL'])\n",
    "plt.show()"
   ]
  },
  {
   "cell_type": "code",
   "execution_count": 50,
   "metadata": {},
   "outputs": [
    {
     "data": {
      "text/plain": [
       "12"
      ]
     },
     "execution_count": 50,
     "metadata": {},
     "output_type": "execute_result"
    }
   ],
   "source": [
    "top_plyr_val['EPL'].sum()\n",
    "# 12 of the 20 most expensive players in the world are from the EPL "
   ]
  },
  {
   "cell_type": "code",
   "execution_count": 51,
   "metadata": {},
   "outputs": [
    {
     "data": {
      "image/png": "[encoded data removed]",
      "text/plain": [
       "<Figure size 432x288 with 1 Axes>"
      ]
     },
     "metadata": {
      "needs_background": "light"
     },
     "output_type": "display_data"
    }
   ],
   "source": [
    "# Who are the top 20 highest paid players?\n",
    "top_plyr_wag = df.sort_values(by=[\"Wage (£'000 per week)\"], ascending=False).head(20)\n",
    "top_plyr_wag = top_plyr_wag.sort_values(by=\"Wage (£'000 per week)\", ascending = True)\n",
    "plt.barh(top_plyr_wag[\"Name\"], top_plyr_wag[\"Wage (£'000 per week)\"], \n",
    "         color=(top_plyr_wag[\"EPL\"]==1).map({True:'g',False:'silver'}))\n",
    "plt.legend(['EPL'])\n",
    "plt.xlabel(\"Wage (£'000 per week)\")\n",
    "plt.ylabel('Name')\n",
    "plt.title('Top 20 highest paid players')\n",
    "plt.show()\n",
    "# Messi and Ronaldo are paid significantly more than the rest of the world "
   ]
  },
  {
   "cell_type": "code",
   "execution_count": 52,
   "metadata": {},
   "outputs": [
    {
     "data": {
      "text/plain": [
       "2"
      ]
     },
     "execution_count": 52,
     "metadata": {},
     "output_type": "execute_result"
    }
   ],
   "source": [
    "top_plyr_wag['EPL'].sum()\n",
    "# only 2 of the 20 most highly paid players in the world are from the EPL \n",
    "# but in reality, wage is a poor measure of value "
   ]
  },
  {
   "cell_type": "code",
   "execution_count": 53,
   "metadata": {},
   "outputs": [
    {
     "data": {
      "text/html": [
       "<div>\n",
       "<style scoped>\n",
       "    .dataframe tbody tr th:only-of-type {\n",
       "        vertical-align: middle;\n",
       "    }\n",
       "\n",
       "    .dataframe tbody tr th {\n",
       "        vertical-align: top;\n",
       "    }\n",
       "\n",
       "    .dataframe thead th {\n",
       "        text-align: right;\n",
       "    }\n",
       "</style>\n",
       "<table border=\"1\" class=\"dataframe\">\n",
       "  <thead>\n",
       "    <tr style=\"text-align: right;\">\n",
       "      <th></th>\n",
       "      <th>Club</th>\n",
       "      <th>Count</th>\n",
       "      <th>EPL</th>\n",
       "    </tr>\n",
       "  </thead>\n",
       "  <tbody>\n",
       "    <tr>\n",
       "      <th>0</th>\n",
       "      <td>R. Madrid</td>\n",
       "      <td>23</td>\n",
       "      <td>0</td>\n",
       "    </tr>\n",
       "    <tr>\n",
       "      <th>1</th>\n",
       "      <td>Chelsea</td>\n",
       "      <td>23</td>\n",
       "      <td>1</td>\n",
       "    </tr>\n",
       "    <tr>\n",
       "      <th>2</th>\n",
       "      <td>Man Utd</td>\n",
       "      <td>21</td>\n",
       "      <td>1</td>\n",
       "    </tr>\n",
       "    <tr>\n",
       "      <th>3</th>\n",
       "      <td>Man City</td>\n",
       "      <td>21</td>\n",
       "      <td>1</td>\n",
       "    </tr>\n",
       "    <tr>\n",
       "      <th>4</th>\n",
       "      <td>Liverpool</td>\n",
       "      <td>21</td>\n",
       "      <td>1</td>\n",
       "    </tr>\n",
       "  </tbody>\n",
       "</table>\n",
       "</div>"
      ],
      "text/plain": [
       "        Club  Count  EPL\n",
       "0  R. Madrid     23    0\n",
       "1    Chelsea     23    1\n",
       "2    Man Utd     21    1\n",
       "3   Man City     21    1\n",
       "4  Liverpool     21    1"
      ]
     },
     "execution_count": 53,
     "metadata": {},
     "output_type": "execute_result"
    }
   ],
   "source": [
    "# Which are the top 20 clubs with the most players worth > £20M?\n",
    "plyr_count_club = df.groupby('Club')['Name'].count()\n",
    "plyr_count_club = plyr_count_club.sort_values(ascending=False)[:20]\n",
    "plyr_count_club = pd.DataFrame(plyr_count_club)\n",
    "plyr_count_club = pd.merge(plyr_count_club,epl, on='Club', how='left')\n",
    "plyr_count_club['EPL'] = plyr_count_club['EPL'].fillna(0).astype(int)\n",
    "plyr_count_club.rename(columns={'Name':'Count'},inplace=True)\n",
    "plyr_count_club.head()"
   ]
  },
  {
   "cell_type": "code",
   "execution_count": 54,
   "metadata": {},
   "outputs": [
    {
     "data": {
      "image/png": "[encoded data removed]",
      "text/plain": [
       "<Figure size 432x288 with 1 Axes>"
      ]
     },
     "metadata": {
      "needs_background": "light"
     },
     "output_type": "display_data"
    }
   ],
   "source": [
    "plyr_count_club.plot.bar(x='Club',y='Count', color=(plyr_count_club[\"EPL\"]==1).map({True:'g',False:'silver'}),legend=None)\n",
    "plt.xlabel('Club')\n",
    "plt.ylabel(\"Count of players\")\n",
    "plt.title('Top 20 Clubs with most players > £20M')\n",
    "plt.show()"
   ]
  },
  {
   "cell_type": "code",
   "execution_count": 55,
   "metadata": {},
   "outputs": [
    {
     "data": {
      "text/plain": [
       "9"
      ]
     },
     "execution_count": 55,
     "metadata": {},
     "output_type": "execute_result"
    }
   ],
   "source": [
    "plyr_count_club['EPL'].sum()\n",
    "# Almost half (9/20) of the clubs with most players valued over £20M are from the EPL"
   ]
  },
  {
   "cell_type": "code",
   "execution_count": 56,
   "metadata": {},
   "outputs": [
    {
     "data": {
      "text/html": [
       "<div>\n",
       "<style scoped>\n",
       "    .dataframe tbody tr th:only-of-type {\n",
       "        vertical-align: middle;\n",
       "    }\n",
       "\n",
       "    .dataframe tbody tr th {\n",
       "        vertical-align: top;\n",
       "    }\n",
       "\n",
       "    .dataframe thead th {\n",
       "        text-align: right;\n",
       "    }\n",
       "</style>\n",
       "<table border=\"1\" class=\"dataframe\">\n",
       "  <thead>\n",
       "    <tr style=\"text-align: right;\">\n",
       "      <th></th>\n",
       "      <th>Club</th>\n",
       "      <th>Value (£'M)</th>\n",
       "      <th>EPL</th>\n",
       "    </tr>\n",
       "  </thead>\n",
       "  <tbody>\n",
       "    <tr>\n",
       "      <th>0</th>\n",
       "      <td>Barcelona</td>\n",
       "      <td>47.0</td>\n",
       "      <td>0</td>\n",
       "    </tr>\n",
       "    <tr>\n",
       "      <th>1</th>\n",
       "      <td>Man City</td>\n",
       "      <td>45.0</td>\n",
       "      <td>1</td>\n",
       "    </tr>\n",
       "    <tr>\n",
       "      <th>2</th>\n",
       "      <td>Liverpool</td>\n",
       "      <td>45.0</td>\n",
       "      <td>1</td>\n",
       "    </tr>\n",
       "    <tr>\n",
       "      <th>3</th>\n",
       "      <td>R. Madrid</td>\n",
       "      <td>42.0</td>\n",
       "      <td>0</td>\n",
       "    </tr>\n",
       "    <tr>\n",
       "      <th>4</th>\n",
       "      <td>Lazio</td>\n",
       "      <td>38.5</td>\n",
       "      <td>0</td>\n",
       "    </tr>\n",
       "  </tbody>\n",
       "</table>\n",
       "</div>"
      ],
      "text/plain": [
       "        Club  Value (£'M)  EPL\n",
       "0  Barcelona         47.0    0\n",
       "1   Man City         45.0    1\n",
       "2  Liverpool         45.0    1\n",
       "3  R. Madrid         42.0    0\n",
       "4      Lazio         38.5    0"
      ]
     },
     "execution_count": 56,
     "metadata": {},
     "output_type": "execute_result"
    }
   ],
   "source": [
    "plyr_val_club = df.groupby('Club')[\"Value (£'M)\"].median()\n",
    "plyr_val_club = plyr_val_club.sort_values(ascending=False)[:20]\n",
    "plyr_val_club = pd.DataFrame(plyr_val_club)\n",
    "plyr_val_club = pd.merge(plyr_val_club,epl, on='Club', how='left')\n",
    "plyr_val_club['EPL'] = plyr_val_club['EPL'].fillna(0).astype(int)\n",
    "plyr_val_club.head()"
   ]
  },
  {
   "cell_type": "code",
   "execution_count": 57,
   "metadata": {},
   "outputs": [
    {
     "data": {
      "image/png": "[encoded data removed]",
      "text/plain": [
       "<Figure size 432x288 with 1 Axes>"
      ]
     },
     "metadata": {
      "needs_background": "light"
     },
     "output_type": "display_data"
    }
   ],
   "source": [
    "# Which are the top 20 clubs with the highest median player value? \n",
    "plyr_val_club.plot.bar(x='Club',y=\"Value (£'M)\", color=(plyr_val_club[\"EPL\"]==1).map({True:'g',False:'silver'}),legend=None)\n",
    "plt.xlabel('Club')\n",
    "plt.ylabel(\"Value (£'M)\")\n",
    "plt.title('Top 20 Clubs with highest median player value')\n",
    "plt.show()"
   ]
  },
  {
   "cell_type": "code",
   "execution_count": 58,
   "metadata": {},
   "outputs": [
    {
     "data": {
      "text/plain": [
       "8"
      ]
     },
     "execution_count": 58,
     "metadata": {},
     "output_type": "execute_result"
    }
   ],
   "source": [
    "plyr_val_club['EPL'].sum()\n",
    "# Almost half (8/20) of the clubs with highest median player value are from the EPL"
   ]
  },
  {
   "cell_type": "markdown",
   "metadata": {},
   "source": [
    "Other data exploration and visualisations "
   ]
  },
  {
   "cell_type": "code",
   "execution_count": 59,
   "metadata": {},
   "outputs": [
    {
     "data": {
      "text/plain": [
       "(17.0, 40.0)"
      ]
     },
     "execution_count": 59,
     "metadata": {},
     "output_type": "execute_result"
    },
    {
     "data": {
      "image/png": "[encoded data removed]",
      "text/plain": [
       "<Figure size 432x288 with 1 Axes>"
      ]
     },
     "metadata": {
      "needs_background": "light"
     },
     "output_type": "display_data"
    }
   ],
   "source": [
    "df.hist('Age', grid=False)\n",
    "plt.xlim(17,40)\n",
    "# most players are aged between 25 to 30\n",
    "# most players peak in value at this age "
   ]
  },
  {
   "cell_type": "code",
   "execution_count": 60,
   "metadata": {},
   "outputs": [
    {
     "data": {
      "text/plain": [
       "array([[<matplotlib.axes._subplots.AxesSubplot object at 0x000002429E8A8880>]],\n",
       "      dtype=object)"
      ]
     },
     "execution_count": 60,
     "metadata": {},
     "output_type": "execute_result"
    },
    {
     "data": {
      "image/png": "[encoded data removed]",
      "text/plain": [
       "<Figure size 432x288 with 1 Axes>"
      ]
     },
     "metadata": {
      "needs_background": "light"
     },
     "output_type": "display_data"
    }
   ],
   "source": [
    "df.hist(\"Value (£'M)\", grid=False, bins = 15)\n",
    "# histogram seems right-skewed, can do a log transform \n",
    "# Most players are worth between £20M to £35M"
   ]
  },
  {
   "cell_type": "code",
   "execution_count": 61,
   "metadata": {},
   "outputs": [
    {
     "data": {
      "text/plain": [
       "array([[<matplotlib.axes._subplots.AxesSubplot object at 0x000002429E7B3610>]],\n",
       "      dtype=object)"
      ]
     },
     "execution_count": 61,
     "metadata": {},
     "output_type": "execute_result"
    },
    {
     "data": {
      "image/png": "[encoded data removed]",
      "text/plain": [
       "<Figure size 432x288 with 1 Axes>"
      ]
     },
     "metadata": {
      "needs_background": "light"
     },
     "output_type": "display_data"
    }
   ],
   "source": [
    "df.hist(\"Wage (£'000 per week)\", grid=False, bins = 50)\n",
    "# right skewed graph. there are outliers who earn >£300k. To remove for visualisation. "
   ]
  },
  {
   "cell_type": "code",
   "execution_count": 62,
   "metadata": {},
   "outputs": [
    {
     "data": {
      "text/html": [
       "<div>\n",
       "<style scoped>\n",
       "    .dataframe tbody tr th:only-of-type {\n",
       "        vertical-align: middle;\n",
       "    }\n",
       "\n",
       "    .dataframe tbody tr th {\n",
       "        vertical-align: top;\n",
       "    }\n",
       "\n",
       "    .dataframe thead th {\n",
       "        text-align: right;\n",
       "    }\n",
       "</style>\n",
       "<table border=\"1\" class=\"dataframe\">\n",
       "  <thead>\n",
       "    <tr style=\"text-align: right;\">\n",
       "      <th></th>\n",
       "      <th>Name</th>\n",
       "      <th>Position</th>\n",
       "      <th>Age</th>\n",
       "      <th>Nation</th>\n",
       "      <th>Club</th>\n",
       "      <th>Height (cm)</th>\n",
       "      <th>Wage (£'000 per week)</th>\n",
       "      <th>Value (£'M)</th>\n",
       "      <th>EPL</th>\n",
       "    </tr>\n",
       "  </thead>\n",
       "  <tbody>\n",
       "    <tr>\n",
       "      <th>20</th>\n",
       "      <td>Alexis Sanchez</td>\n",
       "      <td>AMR AML AMC ST</td>\n",
       "      <td>30</td>\n",
       "      <td>CHI</td>\n",
       "      <td>Inter</td>\n",
       "      <td>169</td>\n",
       "      <td>400</td>\n",
       "      <td>35.0</td>\n",
       "      <td>0</td>\n",
       "    </tr>\n",
       "    <tr>\n",
       "      <th>40</th>\n",
       "      <td>Antoine Griezmann</td>\n",
       "      <td>AMR AML AMC ST</td>\n",
       "      <td>28</td>\n",
       "      <td>FRA</td>\n",
       "      <td>Barcelona</td>\n",
       "      <td>175</td>\n",
       "      <td>560</td>\n",
       "      <td>75.0</td>\n",
       "      <td>0</td>\n",
       "    </tr>\n",
       "    <tr>\n",
       "      <th>79</th>\n",
       "      <td>Cristiano Ronaldo</td>\n",
       "      <td>AMR AML ST</td>\n",
       "      <td>34</td>\n",
       "      <td>POR</td>\n",
       "      <td>Zebre</td>\n",
       "      <td>185</td>\n",
       "      <td>950</td>\n",
       "      <td>30.0</td>\n",
       "      <td>0</td>\n",
       "    </tr>\n",
       "    <tr>\n",
       "      <th>91</th>\n",
       "      <td>David De Gea</td>\n",
       "      <td>GK</td>\n",
       "      <td>28</td>\n",
       "      <td>ESP</td>\n",
       "      <td>Man Utd</td>\n",
       "      <td>193</td>\n",
       "      <td>350</td>\n",
       "      <td>49.0</td>\n",
       "      <td>1</td>\n",
       "    </tr>\n",
       "    <tr>\n",
       "      <th>114</th>\n",
       "      <td>Eden Hazard</td>\n",
       "      <td>AMR AML AMC</td>\n",
       "      <td>28</td>\n",
       "      <td>BEL</td>\n",
       "      <td>R. Madrid</td>\n",
       "      <td>173</td>\n",
       "      <td>532</td>\n",
       "      <td>82.0</td>\n",
       "      <td>0</td>\n",
       "    </tr>\n",
       "    <tr>\n",
       "      <th>145</th>\n",
       "      <td>Gareth Bale</td>\n",
       "      <td>AMR AML AMC ST</td>\n",
       "      <td>29</td>\n",
       "      <td>WAL</td>\n",
       "      <td>R. Madrid</td>\n",
       "      <td>185</td>\n",
       "      <td>532</td>\n",
       "      <td>75.0</td>\n",
       "      <td>0</td>\n",
       "    </tr>\n",
       "    <tr>\n",
       "      <th>241</th>\n",
       "      <td>Kylian Mbappe</td>\n",
       "      <td>AMR AML ST</td>\n",
       "      <td>20</td>\n",
       "      <td>FRA</td>\n",
       "      <td>Paris SG</td>\n",
       "      <td>178</td>\n",
       "      <td>378</td>\n",
       "      <td>86.0</td>\n",
       "      <td>0</td>\n",
       "    </tr>\n",
       "    <tr>\n",
       "      <th>250</th>\n",
       "      <td>Lionel Messi</td>\n",
       "      <td>AMR AMC ST</td>\n",
       "      <td>32</td>\n",
       "      <td>ARG</td>\n",
       "      <td>Barcelona</td>\n",
       "      <td>170</td>\n",
       "      <td>1000</td>\n",
       "      <td>72.0</td>\n",
       "      <td>0</td>\n",
       "    </tr>\n",
       "    <tr>\n",
       "      <th>258</th>\n",
       "      <td>Luis Suarez</td>\n",
       "      <td>AMR AML AMC ST</td>\n",
       "      <td>32</td>\n",
       "      <td>URU</td>\n",
       "      <td>Barcelona</td>\n",
       "      <td>182</td>\n",
       "      <td>532</td>\n",
       "      <td>54.0</td>\n",
       "      <td>0</td>\n",
       "    </tr>\n",
       "    <tr>\n",
       "      <th>269</th>\n",
       "      <td>Marcelo</td>\n",
       "      <td>DL WBL ML</td>\n",
       "      <td>31</td>\n",
       "      <td>BRA</td>\n",
       "      <td>R. Madrid</td>\n",
       "      <td>174</td>\n",
       "      <td>331</td>\n",
       "      <td>40.0</td>\n",
       "      <td>0</td>\n",
       "    </tr>\n",
       "    <tr>\n",
       "      <th>298</th>\n",
       "      <td>Mesut Ozil</td>\n",
       "      <td>AMR AML AMC</td>\n",
       "      <td>30</td>\n",
       "      <td>GER</td>\n",
       "      <td>Arsenal</td>\n",
       "      <td>180</td>\n",
       "      <td>350</td>\n",
       "      <td>41.0</td>\n",
       "      <td>1</td>\n",
       "    </tr>\n",
       "    <tr>\n",
       "      <th>316</th>\n",
       "      <td>Neymar</td>\n",
       "      <td>AML AMC ST</td>\n",
       "      <td>27</td>\n",
       "      <td>BRA</td>\n",
       "      <td>Paris SG</td>\n",
       "      <td>175</td>\n",
       "      <td>606</td>\n",
       "      <td>91.0</td>\n",
       "      <td>0</td>\n",
       "    </tr>\n",
       "    <tr>\n",
       "      <th>326</th>\n",
       "      <td>Oscar</td>\n",
       "      <td>AMR AMC</td>\n",
       "      <td>27</td>\n",
       "      <td>BRA</td>\n",
       "      <td>SIPG</td>\n",
       "      <td>181</td>\n",
       "      <td>540</td>\n",
       "      <td>39.0</td>\n",
       "      <td>0</td>\n",
       "    </tr>\n",
       "    <tr>\n",
       "      <th>334</th>\n",
       "      <td>Paulinho</td>\n",
       "      <td>DM AMC</td>\n",
       "      <td>30</td>\n",
       "      <td>BRA</td>\n",
       "      <td>Guangzhou</td>\n",
       "      <td>181</td>\n",
       "      <td>431</td>\n",
       "      <td>27.0</td>\n",
       "      <td>0</td>\n",
       "    </tr>\n",
       "    <tr>\n",
       "      <th>338</th>\n",
       "      <td>Philippe Coutinho</td>\n",
       "      <td>AML AMC</td>\n",
       "      <td>27</td>\n",
       "      <td>BRA</td>\n",
       "      <td>FC Bayern</td>\n",
       "      <td>172</td>\n",
       "      <td>383</td>\n",
       "      <td>60.0</td>\n",
       "      <td>0</td>\n",
       "    </tr>\n",
       "    <tr>\n",
       "      <th>355</th>\n",
       "      <td>Robert Lewandowski</td>\n",
       "      <td>ST</td>\n",
       "      <td>30</td>\n",
       "      <td>POL</td>\n",
       "      <td>FC Bayern</td>\n",
       "      <td>184</td>\n",
       "      <td>331</td>\n",
       "      <td>80.0</td>\n",
       "      <td>0</td>\n",
       "    </tr>\n",
       "    <tr>\n",
       "      <th>388</th>\n",
       "      <td>Sergio Ramos</td>\n",
       "      <td>DC</td>\n",
       "      <td>33</td>\n",
       "      <td>ESP</td>\n",
       "      <td>R. Madrid</td>\n",
       "      <td>184</td>\n",
       "      <td>463</td>\n",
       "      <td>23.0</td>\n",
       "      <td>0</td>\n",
       "    </tr>\n",
       "    <tr>\n",
       "      <th>397</th>\n",
       "      <td>Talisca</td>\n",
       "      <td>AMC</td>\n",
       "      <td>25</td>\n",
       "      <td>BRA</td>\n",
       "      <td>Guangzhou</td>\n",
       "      <td>188</td>\n",
       "      <td>362</td>\n",
       "      <td>33.0</td>\n",
       "      <td>0</td>\n",
       "    </tr>\n",
       "    <tr>\n",
       "      <th>413</th>\n",
       "      <td>Toni Kroos</td>\n",
       "      <td>DM</td>\n",
       "      <td>29</td>\n",
       "      <td>GER</td>\n",
       "      <td>R. Madrid</td>\n",
       "      <td>183</td>\n",
       "      <td>331</td>\n",
       "      <td>62.0</td>\n",
       "      <td>0</td>\n",
       "    </tr>\n",
       "    <tr>\n",
       "      <th>473</th>\n",
       "      <td>Ezequiel Lavezzi</td>\n",
       "      <td>AMR AML AMC ST</td>\n",
       "      <td>34</td>\n",
       "      <td>ARG</td>\n",
       "      <td>HB China Fortune</td>\n",
       "      <td>173</td>\n",
       "      <td>402</td>\n",
       "      <td>4.0</td>\n",
       "      <td>0</td>\n",
       "    </tr>\n",
       "    <tr>\n",
       "      <th>485</th>\n",
       "      <td>Hulk</td>\n",
       "      <td>AMR AML</td>\n",
       "      <td>32</td>\n",
       "      <td>BRA</td>\n",
       "      <td>SIPG</td>\n",
       "      <td>179</td>\n",
       "      <td>450</td>\n",
       "      <td>17.0</td>\n",
       "      <td>0</td>\n",
       "    </tr>\n",
       "    <tr>\n",
       "      <th>513</th>\n",
       "      <td>Luka Modric</td>\n",
       "      <td>AMC</td>\n",
       "      <td>33</td>\n",
       "      <td>CRO</td>\n",
       "      <td>R. Madrid</td>\n",
       "      <td>172</td>\n",
       "      <td>388</td>\n",
       "      <td>17.0</td>\n",
       "      <td>0</td>\n",
       "    </tr>\n",
       "    <tr>\n",
       "      <th>519</th>\n",
       "      <td>Marouane Fellaini</td>\n",
       "      <td>AMC</td>\n",
       "      <td>31</td>\n",
       "      <td>BEL</td>\n",
       "      <td>Shandong</td>\n",
       "      <td>194</td>\n",
       "      <td>362</td>\n",
       "      <td>16.0</td>\n",
       "      <td>0</td>\n",
       "    </tr>\n",
       "  </tbody>\n",
       "</table>\n",
       "</div>"
      ],
      "text/plain": [
       "                   Name        Position  Age Nation              Club  \\\n",
       "20       Alexis Sanchez  AMR AML AMC ST   30    CHI             Inter   \n",
       "40    Antoine Griezmann  AMR AML AMC ST   28    FRA         Barcelona   \n",
       "79    Cristiano Ronaldo      AMR AML ST   34    POR             Zebre   \n",
       "91         David De Gea              GK   28    ESP           Man Utd   \n",
       "114         Eden Hazard     AMR AML AMC   28    BEL         R. Madrid   \n",
       "145         Gareth Bale  AMR AML AMC ST   29    WAL         R. Madrid   \n",
       "241       Kylian Mbappe      AMR AML ST   20    FRA          Paris SG   \n",
       "250        Lionel Messi      AMR AMC ST   32    ARG         Barcelona   \n",
       "258         Luis Suarez  AMR AML AMC ST   32    URU         Barcelona   \n",
       "269             Marcelo       DL WBL ML   31    BRA         R. Madrid   \n",
       "298          Mesut Ozil     AMR AML AMC   30    GER           Arsenal   \n",
       "316              Neymar      AML AMC ST   27    BRA          Paris SG   \n",
       "326               Oscar         AMR AMC   27    BRA              SIPG   \n",
       "334            Paulinho          DM AMC   30    BRA         Guangzhou   \n",
       "338   Philippe Coutinho         AML AMC   27    BRA         FC Bayern   \n",
       "355  Robert Lewandowski              ST   30    POL         FC Bayern   \n",
       "388        Sergio Ramos              DC   33    ESP         R. Madrid   \n",
       "397             Talisca             AMC   25    BRA         Guangzhou   \n",
       "413          Toni Kroos              DM   29    GER         R. Madrid   \n",
       "473    Ezequiel Lavezzi  AMR AML AMC ST   34    ARG  HB China Fortune   \n",
       "485                Hulk         AMR AML   32    BRA              SIPG   \n",
       "513         Luka Modric             AMC   33    CRO         R. Madrid   \n",
       "519   Marouane Fellaini             AMC   31    BEL          Shandong   \n",
       "\n",
       "     Height (cm)  Wage (£'000 per week)  Value (£'M)  EPL  \n",
       "20           169                    400         35.0    0  \n",
       "40           175                    560         75.0    0  \n",
       "79           185                    950         30.0    0  \n",
       "91           193                    350         49.0    1  \n",
       "114          173                    532         82.0    0  \n",
       "145          185                    532         75.0    0  \n",
       "241          178                    378         86.0    0  \n",
       "250          170                   1000         72.0    0  \n",
       "258          182                    532         54.0    0  \n",
       "269          174                    331         40.0    0  \n",
       "298          180                    350         41.0    1  \n",
       "316          175                    606         91.0    0  \n",
       "326          181                    540         39.0    0  \n",
       "334          181                    431         27.0    0  \n",
       "338          172                    383         60.0    0  \n",
       "355          184                    331         80.0    0  \n",
       "388          184                    463         23.0    0  \n",
       "397          188                    362         33.0    0  \n",
       "413          183                    331         62.0    0  \n",
       "473          173                    402          4.0    0  \n",
       "485          179                    450         17.0    0  \n",
       "513          172                    388         17.0    0  \n",
       "519          194                    362         16.0    0  "
      ]
     },
     "execution_count": 62,
     "metadata": {},
     "output_type": "execute_result"
    }
   ],
   "source": [
    "df[df[\"Wage (£'000 per week)\"]>300]"
   ]
  },
  {
   "cell_type": "code",
   "execution_count": 63,
   "metadata": {},
   "outputs": [],
   "source": [
    "df1 = df.drop(df[df[\"Wage (£'000 per week)\"]>300].index) # execute only once"
   ]
  },
  {
   "cell_type": "code",
   "execution_count": 64,
   "metadata": {},
   "outputs": [
    {
     "data": {
      "text/plain": [
       "(541, 9)"
      ]
     },
     "execution_count": 64,
     "metadata": {},
     "output_type": "execute_result"
    }
   ],
   "source": [
    "df1.reset_index(drop=True, inplace = True) \n",
    "df1.shape"
   ]
  },
  {
   "cell_type": "code",
   "execution_count": 65,
   "metadata": {},
   "outputs": [
    {
     "data": {
      "text/plain": [
       "array([[<matplotlib.axes._subplots.AxesSubplot object at 0x000002429E222130>]],\n",
       "      dtype=object)"
      ]
     },
     "execution_count": 65,
     "metadata": {},
     "output_type": "execute_result"
    },
    {
     "data": {
      "image/png": "[encoded data removed]",
      "text/plain": [
       "<Figure size 432x288 with 1 Axes>"
      ]
     },
     "metadata": {
      "needs_background": "light"
     },
     "output_type": "display_data"
    }
   ],
   "source": [
    "df1.hist(\"Wage (£'000 per week)\", grid=False, bins = 20)\n",
    "# still there are some high earning outliers. Suggest log transformation.  \n",
    "# most players earn between £50k and £120k per week "
   ]
  },
  {
   "cell_type": "code",
   "execution_count": 66,
   "metadata": {},
   "outputs": [
    {
     "data": {
      "text/plain": [
       "<matplotlib.axes._subplots.AxesSubplot at 0x2429e76d3a0>"
      ]
     },
     "execution_count": 66,
     "metadata": {},
     "output_type": "execute_result"
    },
    {
     "data": {
      "image/png": "[encoded data removed]",
      "text/plain": [
       "<Figure size 432x288 with 1 Axes>"
      ]
     },
     "metadata": {
      "needs_background": "light"
     },
     "output_type": "display_data"
    }
   ],
   "source": [
    "# scatterplot of wage v value - EPL vs Others\n",
    "df.plot.scatter(\"Wage (£'000 per week)\",\"Value (£'M)\") \n",
    "# outliers have skewed the scatter plot. suggest removing the 2 most extreme outliers - Ronaldo and Messi "
   ]
  },
  {
   "cell_type": "code",
   "execution_count": 67,
   "metadata": {},
   "outputs": [
    {
     "data": {
      "text/html": [
       "<div>\n",
       "<style scoped>\n",
       "    .dataframe tbody tr th:only-of-type {\n",
       "        vertical-align: middle;\n",
       "    }\n",
       "\n",
       "    .dataframe tbody tr th {\n",
       "        vertical-align: top;\n",
       "    }\n",
       "\n",
       "    .dataframe thead th {\n",
       "        text-align: right;\n",
       "    }\n",
       "</style>\n",
       "<table border=\"1\" class=\"dataframe\">\n",
       "  <thead>\n",
       "    <tr style=\"text-align: right;\">\n",
       "      <th></th>\n",
       "      <th>Name</th>\n",
       "      <th>Position</th>\n",
       "      <th>Age</th>\n",
       "      <th>Nation</th>\n",
       "      <th>Club</th>\n",
       "      <th>Height (cm)</th>\n",
       "      <th>Wage (£'000 per week)</th>\n",
       "      <th>Value (£'M)</th>\n",
       "      <th>EPL</th>\n",
       "    </tr>\n",
       "  </thead>\n",
       "  <tbody>\n",
       "    <tr>\n",
       "      <th>79</th>\n",
       "      <td>Cristiano Ronaldo</td>\n",
       "      <td>AMR AML ST</td>\n",
       "      <td>34</td>\n",
       "      <td>POR</td>\n",
       "      <td>Zebre</td>\n",
       "      <td>185</td>\n",
       "      <td>950</td>\n",
       "      <td>30.0</td>\n",
       "      <td>0</td>\n",
       "    </tr>\n",
       "    <tr>\n",
       "      <th>250</th>\n",
       "      <td>Lionel Messi</td>\n",
       "      <td>AMR AMC ST</td>\n",
       "      <td>32</td>\n",
       "      <td>ARG</td>\n",
       "      <td>Barcelona</td>\n",
       "      <td>170</td>\n",
       "      <td>1000</td>\n",
       "      <td>72.0</td>\n",
       "      <td>0</td>\n",
       "    </tr>\n",
       "  </tbody>\n",
       "</table>\n",
       "</div>"
      ],
      "text/plain": [
       "                  Name    Position  Age Nation       Club  Height (cm)  \\\n",
       "79   Cristiano Ronaldo  AMR AML ST   34    POR      Zebre          185   \n",
       "250       Lionel Messi  AMR AMC ST   32    ARG  Barcelona          170   \n",
       "\n",
       "     Wage (£'000 per week)  Value (£'M)  EPL  \n",
       "79                     950         30.0    0  \n",
       "250                   1000         72.0    0  "
      ]
     },
     "execution_count": 67,
     "metadata": {},
     "output_type": "execute_result"
    }
   ],
   "source": [
    "df[df[\"Wage (£'000 per week)\"]>800]"
   ]
  },
  {
   "cell_type": "code",
   "execution_count": 68,
   "metadata": {},
   "outputs": [],
   "source": [
    "df2 = df.drop(df[df[\"Wage (£'000 per week)\"]>800].index) # execute only once"
   ]
  },
  {
   "cell_type": "code",
   "execution_count": 69,
   "metadata": {},
   "outputs": [
    {
     "data": {
      "text/plain": [
       "(562, 9)"
      ]
     },
     "execution_count": 69,
     "metadata": {},
     "output_type": "execute_result"
    }
   ],
   "source": [
    "df2.reset_index(drop=True, inplace = True) \n",
    "df2.shape"
   ]
  },
  {
   "cell_type": "code",
   "execution_count": 70,
   "metadata": {},
   "outputs": [
    {
     "data": {
      "text/plain": [
       "<matplotlib.axes._subplots.AxesSubplot at 0x2429e7faa60>"
      ]
     },
     "execution_count": 70,
     "metadata": {},
     "output_type": "execute_result"
    },
    {
     "data": {
      "image/png": "[encoded data removed]",
      "text/plain": [
       "<Figure size 432x288 with 1 Axes>"
      ]
     },
     "metadata": {
      "needs_background": "light"
     },
     "output_type": "display_data"
    }
   ],
   "source": [
    "df2.plot.scatter(\"Wage (£'000 per week)\",\"Value (£'M)\", color=(df2[\"EPL\"]==1).map({True:'g',False:'silver'})) \n",
    "# good enough for visualisation\n",
    "# we can see that most EPL players do not reside in the right 2 quadrants \n",
    "# ie they are of high value yet do not draw the highest wages. "
   ]
  },
  {
   "cell_type": "markdown",
   "metadata": {},
   "source": [
    "### Conclusion\n",
    "We have met the objectives of this project, demonstrating a grasp of web scraping using BeautifulSoup, as well as data cleaning, exploration and visualisation using numpy, pandas and matplotlib libraries. \n",
    "<br>\n",
    "\n",
    "| Topic | Concepts applied in project |\n",
    "| :-------- | :----------- |\n",
    "| Web Scraping and File IO | - Data extraction across multiple pages in a single function using BeautifulSoup<br>- Use list comprehension to flatten nested lists<br>- Write table headings and data to file |\n",
    "| Data Cleaning | - Removing usused columns<br>- Removing non-numeric characters<br>- Changing data type<br>- Stripping of whitespace<br>- Merging data frames<br>- Removing duplicates<br>- Reindexing<br>- Detecting and correcting outliers and anomalies<br>- Renaming column headers<br>- Splitting of combined columns |\n",
    "| Data Exploration and Visualisation | - Use pandas and matplotlib libraries to uncover insights<br>- Pie Charts<br>- Barcharts<br>- Histogram<br>- Scatterplot| \n",
    "\n",
    "<br>\n",
    "We also performed EDA to visualise data, answering some questions such as:  \n",
    "\n",
    "* Who are the most expensive players? \n",
    "* Who are the highest paid players?\n",
    "* Which club has the most number of players in this list? What is their median value?\n",
    "* What is the demographic of the players in this list? How does player value vary with age? \n",
    "* What is the distribution of player value? \n",
    "* What is the distribution of wages? \n",
    "* How does player value vary with wage? \n",
    "<br>\n",
    "\n",
    "We discover that, EPL players and clubs dominate rankings in 3 of the 4 comparisons, namely: \n",
    "* 12 of 20 most expensive players \n",
    "* 9 of 20 top clubs with most players in list\n",
    "* 8 of 20 top clubs by median player value\n",
    "\n",
    "Although EPL players only make up 2 of the 20 highest paid players, wage is hardly a good measure of value. The scatterplot of wage v value demonstrated that most EPL players are of high value yet do not draw the highest wages. Astronomical wages on mediocre players can be attributed to leagues or clubs splashing cash to attract talent. Moreover, EPL players make up more than a third of all players in the list. We hence conclude that the EPL is the most valuable league in the world. \n",
    "<br>\n"
   ]
  },
  {
   "cell_type": "markdown",
   "metadata": {},
   "source": [
    "### Improvements\n",
    "* Scrape a larger database of players for more meaningful and in-depth analysis and visualisations \n",
    "* Scrape each players attributes and concat these attributes to dataframe. Require another nested for loop inside the get_page() function. \n",
    "\n",
    "Unfortunately FM Scout only returns 5 pages of results. Find a website that returns more pages of results and individual player stats "
   ]
  },
  {
   "attachments": {
    "image.png": {
     "image/png": "[encoded data removed]"
    }
   },
   "cell_type": "markdown",
   "metadata": {},
   "source": [
    "![image.png](attachment:image.png)"
   ]
  }
 ],
 "metadata": {
  "kernelspec": {
   "display_name": "Python 3",
   "language": "python",
   "name": "python3"
  },
  "language_info": {
   "codemirror_mode": {
    "name": "ipython",
    "version": 3
   },
   "file_extension": ".py",
   "mimetype": "text/x-python",
   "name": "python",
   "nbconvert_exporter": "python",
   "pygments_lexer": "ipython3",
   "version": "3.8.3"
  }
 },
 "nbformat": 4,
 "nbformat_minor": 4
}
